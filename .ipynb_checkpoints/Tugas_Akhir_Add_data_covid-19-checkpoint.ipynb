{
 "cells": [
  {
   "cell_type": "code",
   "execution_count": 4,
   "metadata": {},
   "outputs": [],
   "source": [
    "import mysql.connector\n",
    "import gspread\n",
    "from oauth2client.service_account import ServiceAccountCredentials\n",
    "import datetime\n",
    "import time\n",
    "from datetime import timedelta  \n"
   ]
  },
  {
   "cell_type": "code",
   "execution_count": 5,
   "metadata": {},
   "outputs": [],
   "source": [
    "mydb = mysql.connector.connect(\n",
    "  host=\"localhost\",\n",
    "  user=\"root\",\n",
    "  password=\"\",\n",
    "  database=\"tugasakhir\"\n",
    ")\n",
    "\n",
    "mycursor = mydb.cursor()\n",
    "mycursor.execute(\"SELECT tanggal FROM data_covid19_kasus ORDER BY tanggal DESC limit 1\")\n",
    "tanggal = mycursor.fetchall()\n"
   ]
  },
  {
   "cell_type": "code",
   "execution_count": 7,
   "metadata": {},
   "outputs": [
    {
     "name": "stdout",
     "output_type": "stream",
     "text": [
      "['15 Jun', '17,697', '47,857', '51,597', '19,820', '8,717', '49,617', '452,295', '11,247', '332,265', '218,742', '159,961', '12,446', '72,896', '23,904', '35,319', '12,499', '20,686', '12,670', '26,463', '48,039', '15,901', '33,626', '10,610', '62,721', '13,098', '19,701', '66,214', '4,647', '7,906', '9,489', '20,616', '5,619', '17,246', '5,575', '0']\n",
      "['16 Jun', '17,830', '47,924', '51,754', '19,911', '8,766', '50,151', '454,671', '11,371', '334,864', '219,993', '160,663', '12,567', '73,041', '23,998', '35,376', '12,516', '21,037', '12,675', '26,601', '48,253', '15,901', '33,762', '10,621', '62,753', '13,114', '19,763', '66,540', '4,655', '7,949', '9,519', '20,620', '5,621', '17,295', '5,577', '0']\n",
      "['17 Jun', '17,970', '47,989', '51,922', '20,003', '8,796', '50,746', '458,815', '11,503', '337,664', '221,745', '161,385', '12,711', '73,218', '24,083', '35,469', '12,552', '21,344', '12,692', '26,722', '48,441', '15,918', '33,924', '10,632', '62,815', '13,137', '19,855', '66,871', '4,662', '7,973', '9,563', '20,648', '5,627', '17,304', '5,577', '0']\n",
      "['18 Jun', '18,120', '48,084', '52,171', '20,076', '8,866', '51,338', '463,552', '11,660', '340,455', '223,076', '162,116', '12,851', '73,363', '24,202', '35,497', '12,605', '21,622', '12,715', '26,857', '48,682', '15,934', '34,061', '10,673', '62,878', '13,159', '19,943', '67,224', '4,690', '7,973', '9,604', '20,659', '5,631', '17,324', '5,605', '0']\n",
      "['19 Jun', '18,236', '48,239', '52,449', '20,157', '8,947', '51,976', '468,447', '11,806', '342,559', '224,953', '162,809', '12,998', '73,515', '24,290', '35,545', '12,618', '21,963', '12,754', '26,976', '48,817', '15,953', '34,183', '10,695', '62,945', '13,198', '20,060', '67,508', '4,706', '7,988', '9,637', '20,665', '5,636', '17,330', '5,614', '0']\n",
      "['20 Jun', '18,329', '48,345', '52,677', '20,206', '9,032', '52,641', '474,029', '11,911', '344,568', '227,148', '163,548', '13,145', '73,662', '24,365', '35,565', '12,658', '22,300', '12,769', '27,119', '48,948', '15,953', '34,291', '10,724', '62,995', '13,218', '20,201', '67,782', '4,707', '8,057', '9,695', '20,671', '5,662', '17,364', '5,624', '0']\n",
      "['21 Jun', '18,376', '48,436', '53,010', '20,247', '9,078', '53,303', '479,043', '12,030', '347,287', '230,400', '164,267', '13,242', '73,824', '24,435', '35,570', '12,667', '22,527', '12,792', '27,230', '49,018', '15,969', '34,571', '10,727', '63,030', '13,237', '20,320', '67,930', '4,713', '8,057', '9,701', '20,683', '5,664', '17,371', '5,690', '0']\n",
      "['22 Jun', '18,439', '48,563', '53,472', '20,336', '9,179', '53,978', '482,264', '12,171', '350,719', '232,839', '165,013', '13,367', '74,069', '24,570', '35,607', '12,707', '22,680', '12,803', '27,381', '49,206', '16,008', '34,869', '10,791', '63,160', '13,260', '20,392', '68,154', '4,749', '8,097', '9,725', '20,720', '5,667', '17,468', '5,690', '0']\n",
      "['23 Jun', '18,595', '48,750', '53,747', '20,426', '9,285', '54,672', '486,957', '12,274', '353,629', '235,434', '165,886', '13,522', '74,296', '24,666', '35,684', '12,791', '22,989', '12,828', '27,496', '49,500', '16,055', '35,015', '10,878', '63,290', '13,293', '20,534', '68,484', '4,770', '8,130', '9,812', '20,757', '5,714', '17,539', '5,723', '0']\n",
      "['24 Jun', '18,668', '48,931', '54,346', '20,546', '9,426', '55,463', '494,462', '12,317', '356,682', '239,818', '166,831', '13,711', '74,632', '24,838', '35,723', '12,818', '23,448', '12,837', '27,640', '49,706', '16,075', '35,200', '10,904', '63,390', '13,332', '20,655', '68,779', '4,891', '8,130', '9,936', '20,767', '5,727', '17,643', '5,723', '0']\n"
     ]
    },
    {
     "ename": "IndexError",
     "evalue": "list index out of range",
     "output_type": "error",
     "traceback": [
      "\u001b[1;31m---------------------------------------------------------------------------\u001b[0m",
      "\u001b[1;31mIndexError\u001b[0m                                Traceback (most recent call last)",
      "\u001b[1;32m<ipython-input-7-b556f573645b>\u001b[0m in \u001b[0;36m<module>\u001b[1;34m\u001b[0m\n\u001b[0;32m     17\u001b[0m \u001b[1;33m\u001b[0m\u001b[0m\n\u001b[0;32m     18\u001b[0m \u001b[1;32mfor\u001b[0m \u001b[0mday\u001b[0m \u001b[1;32min\u001b[0m \u001b[0mrange\u001b[0m\u001b[1;33m(\u001b[0m\u001b[0mfirst_row\u001b[0m\u001b[1;33m.\u001b[0m\u001b[0mdays\u001b[0m\u001b[1;33m+\u001b[0m\u001b[0mcolumn_row\u001b[0m\u001b[1;33m,\u001b[0m\u001b[0mlast_row\u001b[0m\u001b[1;33m.\u001b[0m\u001b[0mdays\u001b[0m\u001b[1;33m+\u001b[0m\u001b[0mcolumn_row\u001b[0m\u001b[1;33m)\u001b[0m\u001b[1;33m:\u001b[0m\u001b[1;33m\u001b[0m\u001b[1;33m\u001b[0m\u001b[0m\n\u001b[1;32m---> 19\u001b[1;33m     \u001b[0mrow\u001b[0m \u001b[1;33m=\u001b[0m \u001b[0msheet\u001b[0m\u001b[1;33m.\u001b[0m\u001b[0mrow_values\u001b[0m\u001b[1;33m(\u001b[0m\u001b[0mday\u001b[0m\u001b[1;33m)\u001b[0m\u001b[1;33m\u001b[0m\u001b[1;33m\u001b[0m\u001b[0m\n\u001b[0m\u001b[0;32m     20\u001b[0m     \u001b[0mprint\u001b[0m\u001b[1;33m(\u001b[0m\u001b[0mrow\u001b[0m\u001b[1;33m)\u001b[0m\u001b[1;33m\u001b[0m\u001b[1;33m\u001b[0m\u001b[0m\n\u001b[0;32m     21\u001b[0m \u001b[1;33m\u001b[0m\u001b[0m\n",
      "\u001b[1;32mD:\\anaconda3\\lib\\site-packages\\gspread\\utils.py\u001b[0m in \u001b[0;36mwrapper\u001b[1;34m(*args, **kwargs)\u001b[0m\n\u001b[0;32m    590\u001b[0m                 \u001b[0mkwargs\u001b[0m\u001b[1;33m.\u001b[0m\u001b[0msetdefault\u001b[0m\u001b[1;33m(\u001b[0m\u001b[0mk\u001b[0m\u001b[1;33m,\u001b[0m \u001b[0mv\u001b[0m\u001b[1;33m)\u001b[0m\u001b[1;33m\u001b[0m\u001b[1;33m\u001b[0m\u001b[0m\n\u001b[0;32m    591\u001b[0m \u001b[1;33m\u001b[0m\u001b[0m\n\u001b[1;32m--> 592\u001b[1;33m             \u001b[1;32mreturn\u001b[0m \u001b[0mf\u001b[0m\u001b[1;33m(\u001b[0m\u001b[1;33m*\u001b[0m\u001b[0margs\u001b[0m\u001b[1;33m,\u001b[0m \u001b[1;33m**\u001b[0m\u001b[0mkwargs\u001b[0m\u001b[1;33m)\u001b[0m\u001b[1;33m\u001b[0m\u001b[1;33m\u001b[0m\u001b[0m\n\u001b[0m\u001b[0;32m    593\u001b[0m \u001b[1;33m\u001b[0m\u001b[0m\n\u001b[0;32m    594\u001b[0m         \u001b[1;32mreturn\u001b[0m \u001b[0mwrapper\u001b[0m\u001b[1;33m\u001b[0m\u001b[1;33m\u001b[0m\u001b[0m\n",
      "\u001b[1;32mD:\\anaconda3\\lib\\site-packages\\gspread\\models.py\u001b[0m in \u001b[0;36mrow_values\u001b[1;34m(self, row, **kwargs)\u001b[0m\n\u001b[0;32m    810\u001b[0m         \u001b[1;32mtry\u001b[0m\u001b[1;33m:\u001b[0m\u001b[1;33m\u001b[0m\u001b[1;33m\u001b[0m\u001b[0m\n\u001b[0;32m    811\u001b[0m             \u001b[0mdata\u001b[0m \u001b[1;33m=\u001b[0m \u001b[0mself\u001b[0m\u001b[1;33m.\u001b[0m\u001b[0mget\u001b[0m\u001b[1;33m(\u001b[0m\u001b[1;34m'A{}:{}'\u001b[0m\u001b[1;33m.\u001b[0m\u001b[0mformat\u001b[0m\u001b[1;33m(\u001b[0m\u001b[0mrow\u001b[0m\u001b[1;33m,\u001b[0m \u001b[0mrow\u001b[0m\u001b[1;33m)\u001b[0m\u001b[1;33m,\u001b[0m \u001b[1;33m**\u001b[0m\u001b[0mkwargs\u001b[0m\u001b[1;33m)\u001b[0m\u001b[1;33m\u001b[0m\u001b[1;33m\u001b[0m\u001b[0m\n\u001b[1;32m--> 812\u001b[1;33m             \u001b[1;32mreturn\u001b[0m \u001b[0mdata\u001b[0m\u001b[1;33m[\u001b[0m\u001b[1;36m0\u001b[0m\u001b[1;33m]\u001b[0m\u001b[1;33m\u001b[0m\u001b[1;33m\u001b[0m\u001b[0m\n\u001b[0m\u001b[0;32m    813\u001b[0m         \u001b[1;32mexcept\u001b[0m \u001b[0mKeyError\u001b[0m\u001b[1;33m:\u001b[0m\u001b[1;33m\u001b[0m\u001b[1;33m\u001b[0m\u001b[0m\n\u001b[0;32m    814\u001b[0m             \u001b[1;32mreturn\u001b[0m \u001b[1;33m[\u001b[0m\u001b[1;33m]\u001b[0m\u001b[1;33m\u001b[0m\u001b[1;33m\u001b[0m\u001b[0m\n",
      "\u001b[1;31mIndexError\u001b[0m: list index out of range"
     ]
    }
   ],
   "source": [
    "#mendapatkan izin pengambilan data menggunakan Google API\n",
    "scope = [\"https://spreadsheets.google.com/feeds\",'https://www.googleapis.com/auth/spreadsheets',\"https://www.googleapis.com/auth/drive.file\",\"https://www.googleapis.com/auth/drive\"]\n",
    "creds = ServiceAccountCredentials.from_json_keyfile_name(\"creds.json\", scope)\n",
    "client = gspread.authorize(creds)\n",
    "\n",
    "#membuka link spreadsheet\n",
    "sheet = client.open_by_url(\"https://docs.google.com/spreadsheets/d/1ma1T9hWbec1pXlwZ89WakRk-OfVUQZsOCFl4FwZxzVw/edit#gid=2052139453\").worksheet(\"Timeline\")  # Open the spreadhseet\n",
    "\n",
    "#mendapatkan row awal dan akhir\n",
    "first_date = datetime.date(2020, 3, 18)\n",
    "last_date= tanggal[0][0]+ timedelta(days=1)\n",
    "today_date = datetime.date.today()\n",
    "column_row=2\n",
    "first_row= last_date-first_date\n",
    "last_row = today_date - first_date\n",
    "\n",
    "\n",
    "for day in range(first_row.days+column_row,last_row.days+column_row):\n",
    "    row = sheet.row_values(day)  \n",
    "    print(row)\n",
    "    try:\n",
    "        sql = \"\"\"INSERT INTO data_covid19_kasus (tanggal,aceh,bali,banten,babel,bengkulu,diy,jakarta,jambi,jabar,jateng,jatim,kalbar,kaltim,Kalteng,Kalsel,Kaltara,kep_riau,NTB,Sumsel,Sumbar,Sulut,Sumut,Sultra,Sulsel,Sulteng,Lampung,Riau,Malut,Maluku,Papbar,Papua,Sulbar,NTT,Gorontalo) VALUES (%s, %s, %s, %s, %s, %s, %s, %s, %s, %s, %s, %s, %s, %s, %s, %s, %s, %s, %s, %s, %s, %s, %s, %s, %s, %s, %s, %s, %s, %s, %s, %s, %s, %s, %s)\"\"\"\n",
    "        val = (last_date,row[1].replace(\",\", \"\"),row[2].replace(\",\", \"\"),row[3].replace(\",\", \"\"),row[4].replace(\",\", \"\"),row[5].replace(\",\", \"\"),row[6].replace(\",\", \"\"),row[7].replace(\",\", \"\"),row[8].replace(\",\", \"\"),row[9].replace(\",\", \"\"),row[10].replace(\",\", \"\"),row[11].replace(\",\", \"\"),row[12].replace(\",\", \"\"),row[13].replace(\",\", \"\"),row[14].replace(\",\", \"\"),row[15].replace(\",\", \"\"),row[16].replace(\",\", \"\"),row[17].replace(\",\", \"\"),row[18].replace(\",\", \"\"),row[19].replace(\",\", \"\"),row[20].replace(\",\", \"\"),row[21].replace(\",\", \"\"),row[22].replace(\",\", \"\"),row[23].replace(\",\", \"\"),row[24].replace(\",\", \"\"),row[25].replace(\",\", \"\"),row[26].replace(\",\", \"\"),row[27].replace(\",\", \"\"),row[28].replace(\",\", \"\"),row[29].replace(\",\", \"\"),row[30].replace(\",\", \"\"),row[31].replace(\",\", \"\"),row[32].replace(\",\", \"\"),row[33].replace(\",\", \"\"),row[34].replace(\",\", \"\"))  \n",
    "        mycursor.execute(sql, val)\n",
    "        mydb.commit()\n",
    "    except:\n",
    "        print(\"data sudah ada atau keluar dari index\")\n",
    "    last_date=last_date + timedelta(days=1) \n",
    "    time.sleep(0.5)\n",
    "    \n",
    "mycursor.close()"
   ]
  },
  {
   "cell_type": "code",
   "execution_count": 8,
   "metadata": {},
   "outputs": [
    {
     "name": "stdout",
     "output_type": "stream",
     "text": [
      "2021-06-15\n",
      "1927706\n",
      "2021-06-16\n",
      "1937652\n",
      "2021-06-17\n",
      "1950276\n",
      "2021-06-18\n",
      "1963266\n",
      "2021-06-19\n",
      "1976172\n",
      "2021-06-20\n",
      "1989909\n",
      "2021-06-21\n",
      "2004445\n",
      "2021-06-22\n",
      "2018113\n",
      "2021-06-23\n",
      "2033421\n",
      "2021-06-24\n",
      "2053995\n"
     ]
    }
   ],
   "source": [
    "mycursor = mydb.cursor()\n",
    "mycursor.execute(\"SELECT * FROM data_covid19_kasus where total=0\")\n",
    "myresult = mycursor.fetchall()\n",
    "for row in myresult:\n",
    "    total=0\n",
    "    year=row[0].strftime(\"%Y\")\n",
    "    month=row[0].strftime(\"%m\")\n",
    "    day=row[0].strftime(\"%d\")\n",
    "    date=year+\"-\"+month+\"-\"+day\n",
    "    print(date)\n",
    "    for i in range(1,35):\n",
    "        total=total+row[i]\n",
    "    sql = \"UPDATE data_covid19_kasus SET total ='\"+str(total)+\"' WHERE tanggal='\"+date+\"'\"\n",
    "    mycursor.execute(sql)\n",
    "    mydb.commit()\n",
    "    print(total)    "
   ]
  },
  {
   "cell_type": "code",
   "execution_count": null,
   "metadata": {},
   "outputs": [],
   "source": []
  }
 ],
 "metadata": {
  "kernelspec": {
   "display_name": "Python 3",
   "language": "python",
   "name": "python3"
  },
  "language_info": {
   "codemirror_mode": {
    "name": "ipython",
    "version": 3
   },
   "file_extension": ".py",
   "mimetype": "text/x-python",
   "name": "python",
   "nbconvert_exporter": "python",
   "pygments_lexer": "ipython3",
   "version": "3.8.5"
  }
 },
 "nbformat": 4,
 "nbformat_minor": 4
}
