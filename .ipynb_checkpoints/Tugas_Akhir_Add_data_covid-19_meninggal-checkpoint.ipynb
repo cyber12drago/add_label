{
 "cells": [
  {
   "cell_type": "code",
   "execution_count": 41,
   "metadata": {},
   "outputs": [],
   "source": [
    "import mysql.connector\n",
    "import gspread\n",
    "from oauth2client.service_account import ServiceAccountCredentials\n",
    "from pprint import pprint\n",
    "import datetime\n",
    "import gspread\n",
    "import time\n",
    "from datetime import timedelta  \n"
   ]
  },
  {
   "cell_type": "code",
   "execution_count": 43,
   "metadata": {},
   "outputs": [
    {
     "name": "stdout",
     "output_type": "stream",
     "text": [
      "(datetime.date(2021, 6, 26),)\n"
     ]
    }
   ],
   "source": [
    "mydb = mysql.connector.connect(\n",
    "  host=\"localhost\",\n",
    "  user=\"root\",\n",
    "  password=\"\",\n",
    "  database=\"tugasakhir\"\n",
    ")\n",
    "\n",
    "mycursor = mydb.cursor()\n",
    "mycursor.execute(\"SELECT tanggal FROM data_covid19_meninggal ORDER BY tanggal DESC limit 1\")\n",
    "myresult = mycursor.fetchall()\n"
   ]
  },
  {
   "cell_type": "code",
   "execution_count": 45,
   "metadata": {},
   "outputs": [
    {
     "name": "stdout",
     "output_type": "stream",
     "text": [
      "468\n",
      "['27 Jun', '18,911', '49,546', '55,623', '20,843', '9,747', '57,858', '520,061', '12,585', '368,303', '246,529', '169,684', '14,133', '75,882', '25,301', '35,891', '12,818', '24,694', '12,869', '28,177', '50,457', '16,142', '35,729', '11,239', '63,760', '13,452', '21,191', '69,641', '5,063', '8,347', '10,320', '20,888', '5,766', '18,035', '5,819', '0']\n",
      "(datetime.date(2021, 6, 27), '18911', '49546', '55623', '20843', '9747', '57858', '520061', '12585', '368303', '246529', '169684', '14133', '75882', '25301', '35891', '12818', '24694', '12869', '28177', '50457', '16142', '35729', '11239', '63760', '13452', '21191', '69641', '5063', '8347', '10320', '20888', '5766', '18035', '5819')\n",
      "469\n",
      "['28 Jun', '19,015', '49,758', '56,117', '20,945', '9,757', '58,717', '528,409', '12,631', '373,074', '248,672', '170,765', '14,258', '76,264', '25,407', '35,939', '12,818', '25,023', '12,910', '28,376', '50,546', '16,176', '35,937', '11,269', '63,885', '13,502', '21,350', '69,850', '5,087', '8,466', '10,440', '20,900', '5,785', '18,113', '5,837', '0']\n",
      "(datetime.date(2021, 6, 28), '19015', '49758', '56117', '20945', '9757', '58717', '528409', '12631', '373074', '248672', '170765', '14258', '76264', '25407', '35939', '12818', '25023', '12910', '28376', '50546', '16176', '35937', '11269', '63885', '13502', '21350', '69850', '5087', '8466', '10440', '20900', '5785', '18113', '5837')\n",
      "470\n",
      "['29 Jun', '19,148', '49,996', '56,638', '21,033', '9,867', '59,567', '535,788', '12,754', '376,982', '251,604', '171,830', '14,477', '76,746', '25,553', '35,994', '12,891', '25,503', '12,992', '28,540', '50,734', '16,214', '36,083', '11,306', '64,020', '13,577', '21,475', '70,138', '5,123', '8,492', '10,577', '20,945', '5,793', '18,238', '5,847', '0']\n",
      "(datetime.date(2021, 6, 29), '19148', '49996', '56638', '21033', '9867', '59567', '535788', '12754', '376982', '251604', '171830', '14477', '76746', '25553', '35994', '12891', '25503', '12992', '28540', '50734', '16214', '36083', '11306', '64020', '13577', '21475', '70138', '5123', '8492', '10577', '20945', '5793', '18238', '5847')\n",
      "471\n",
      "['30 Jun', '19,246', '50,217', '57,124', '21,192', '10,131', '60,459', '543,468', '12,861', '381,455', '253,939', '173,033', '14,669', '77,235', '25,741', '36,076', '13,050', '25,924', '12,999', '28,763', '51,186', '16,261', '36,271', '11,374', '64,232', '13,645', '21,672', '70,520', '5,223', '8,492', '10,739', '20,980', '5,832', '18,416', '5,847', '0']\n",
      "(datetime.date(2021, 6, 30), '19246', '50217', '57124', '21192', '10131', '60459', '543468', '12861', '381455', '253939', '173033', '14669', '77235', '25741', '36076', '13050', '25924', '12999', '28763', '51186', '16261', '36271', '11374', '64232', '13645', '21672', '70520', '5223', '8492', '10739', '20980', '5832', '18416', '5847')\n"
     ]
    },
    {
     "data": {
      "text/plain": [
       "True"
      ]
     },
     "execution_count": 45,
     "metadata": {},
     "output_type": "execute_result"
    }
   ],
   "source": [
    "scope = [\"https://spreadsheets.google.com/feeds\",'https://www.googleapis.com/auth/spreadsheets',\"https://www.googleapis.com/auth/drive.file\",\"https://www.googleapis.com/auth/drive\"]\n",
    "\n",
    "creds = ServiceAccountCredentials.from_json_keyfile_name(\"creds.json\", scope)\n",
    "\n",
    "client = gspread.authorize(creds)\n",
    "\n",
    "sheet = client.open_by_url(\"https://docs.google.com/spreadsheets/d/1ma1T9hWbec1pXlwZ89WakRk-OfVUQZsOCFl4FwZxzVw/edit#gid=2052139453\").worksheet(\"Timeline\")  # Open the spreadhseet\n",
    "#sheet = client.open(\"tes\").get_worksheet(0)  # Open the spreadhseet\n",
    "\n",
    "\n",
    "f_date = datetime.date(2020, 3, 18)\n",
    "f2_date= myresult[0][0]+ timedelta(days=1)\n",
    "l_date = datetime.date.today()\n",
    "delta = l_date - f_date\n",
    "cek_range= f2_date-f_date\n",
    "cekrow=sheet.find(\"Meninggal Dunia\")\n",
    "\n",
    "for day in range(cekrow.row+cek_range.days+1,cekrow.row+delta.days):\n",
    "    try:\n",
    "        print(day)\n",
    "        row = sheet.row_values(day)  # Get a specific row\n",
    "    except:\n",
    "        print(\"keluar dari index\")\n",
    "        break\n",
    "    if(len(row)<36):\n",
    "        for i in range(36-len(row)):\n",
    "            row.append(\"\")\n",
    "    print(row)\n",
    "    sql = \"\"\"INSERT INTO data_covid19_meninggal (tanggal,aceh,bali,banten,babel,bengkulu,diy,jakarta,jambi,jabar,jateng,jatim,kalbar,kaltim,Kalteng,Kalsel,Kaltara,kep_riau,NTB,Sumsel,Sumbar,Sulut,Sumut,Sultra,Sulsel,Sulteng,Lampung,Riau,Malut,Maluku,Papbar,Papua,Sulbar,NTT,Gorontalo) VALUES (%s, %s, %s, %s, %s, %s, %s, %s, %s, %s, %s, %s, %s, %s, %s, %s, %s, %s, %s, %s, %s, %s, %s, %s, %s, %s, %s, %s, %s, %s, %s, %s, %s, %s, %s)\"\"\"\n",
    "    val = (f2_date,row[1].replace(\",\", \"\"),row[2].replace(\",\", \"\"),row[3].replace(\",\", \"\"),row[4].replace(\",\", \"\"),row[5].replace(\",\", \"\"),row[6].replace(\",\", \"\"),row[7].replace(\",\", \"\"),row[8].replace(\",\", \"\"),row[9].replace(\",\", \"\"),row[10].replace(\",\", \"\"),row[11].replace(\",\", \"\"),row[12].replace(\",\", \"\"),row[13].replace(\",\", \"\"),row[14].replace(\",\", \"\"),row[15].replace(\",\", \"\"),row[16].replace(\",\", \"\"),row[17].replace(\",\", \"\"),row[18].replace(\",\", \"\"),row[19].replace(\",\", \"\"),row[20].replace(\",\", \"\"),row[21].replace(\",\", \"\"),row[22].replace(\",\", \"\"),row[23].replace(\",\", \"\"),row[24].replace(\",\", \"\"),row[25].replace(\",\", \"\"),row[26].replace(\",\", \"\"),row[27].replace(\",\", \"\"),row[28].replace(\",\", \"\"),row[29].replace(\",\", \"\"),row[30].replace(\",\", \"\"),row[31].replace(\",\", \"\"),row[32].replace(\",\", \"\"),row[33].replace(\",\", \"\"),row[34].replace(\",\", \"\"))  \n",
    "    try:\n",
    "        mycursor.execute(sql, val)\n",
    "        mydb.commit()\n",
    "    except:\n",
    "        print(\"data sudah ada\")\n",
    "    total=0\n",
    "    f2_date=f2_date + timedelta(days=1) \n",
    "    time.sleep(0.5)\n",
    "    \n",
    "mycursor.close()"
   ]
  },
  {
   "cell_type": "code",
   "execution_count": 37,
   "metadata": {},
   "outputs": [],
   "source": [
    "mycursor = mydb.cursor()\n",
    "mycursor.execute(\"SELECT * FROM data_covid19_meninggal where total=0\")\n",
    "myresult = mycursor.fetchall()\n",
    "for row in myresult:\n",
    "    total=0\n",
    "    year=row[0].strftime(\"%Y\")\n",
    "    month=row[0].strftime(\"%m\")\n",
    "    day=row[0].strftime(\"%d\")\n",
    "    date=year+\"-\"+month+\"-\"+day\n",
    "    print(date)\n",
    "    for i in range(1,35):\n",
    "        total=total+row[i]\n",
    "    sql = \"UPDATE data_covid19_meninggal SET total ='\"+str(total)+\"' WHERE tanggal='\"+date+\"'\"\n",
    "    mycursor.execute(sql)\n",
    "    mydb.commit()\n",
    "    print(total)    "
   ]
  },
  {
   "cell_type": "code",
   "execution_count": null,
   "metadata": {},
   "outputs": [],
   "source": []
  },
  {
   "cell_type": "code",
   "execution_count": null,
   "metadata": {},
   "outputs": [],
   "source": []
  }
 ],
 "metadata": {
  "kernelspec": {
   "display_name": "Python 3",
   "language": "python",
   "name": "python3"
  },
  "language_info": {
   "codemirror_mode": {
    "name": "ipython",
    "version": 3
   },
   "file_extension": ".py",
   "mimetype": "text/x-python",
   "name": "python",
   "nbconvert_exporter": "python",
   "pygments_lexer": "ipython3",
   "version": "3.8.5"
  }
 },
 "nbformat": 4,
 "nbformat_minor": 4
}
