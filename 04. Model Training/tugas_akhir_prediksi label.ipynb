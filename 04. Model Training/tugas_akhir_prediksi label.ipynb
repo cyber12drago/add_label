{
 "cells": [
  {
   "cell_type": "code",
   "execution_count": 42,
   "metadata": {},
   "outputs": [],
   "source": [
    "import pickle\n",
    "import pandas as pd\n",
    "import nltk\n",
    "from Sastrawi.Stemmer.StemmerFactory import StemmerFactory\n",
    "from nltk.corpus import stopwords\n",
    "from nltk.tokenize import punkt\n",
    "from nltk.corpus.reader import wordnet\n",
    "from nltk.stem import WordNetLemmatizer\n",
    "from sklearn.feature_extraction.text import TfidfVectorizer"
   ]
  },
  {
   "cell_type": "code",
   "execution_count": 43,
   "metadata": {},
   "outputs": [],
   "source": [
    "path_models = \"C:/Users/asus-pc/Documents/PBA/Tugas Akhir/Untitled Folder/04. Model Training/Models/\"\n",
    "\n",
    "path_rfc = path_models + 'best_rfc.pickle'\n",
    "with open(path_rfc, 'rb') as  data:\n",
    "    rfc_model = pickle.load(data)"
   ]
  },
  {
   "cell_type": "code",
   "execution_count": 44,
   "metadata": {},
   "outputs": [
    {
     "name": "stderr",
     "output_type": "stream",
     "text": [
      "D:\\anaconda3\\lib\\site-packages\\sklearn\\base.py:310: UserWarning: Trying to unpickle estimator TfidfTransformer from version 0.24.1 when using version 0.24.2. This might lead to breaking code or invalid results. Use at your own risk.\n",
      "  warnings.warn(\n",
      "D:\\anaconda3\\lib\\site-packages\\sklearn\\base.py:310: UserWarning: Trying to unpickle estimator TfidfVectorizer from version 0.24.1 when using version 0.24.2. This might lead to breaking code or invalid results. Use at your own risk.\n",
      "  warnings.warn(\n"
     ]
    }
   ],
   "source": [
    "path_tfidf = \"C:/Users/asus-pc/Documents/PBA/Tugas Akhir/03. Feature Engineering/Pickles_title/tfidf.pickle\"\n",
    "with open(path_tfidf, 'rb') as data:\n",
    "    tfidf = pickle.load(data)"
   ]
  },
  {
   "cell_type": "code",
   "execution_count": 45,
   "metadata": {},
   "outputs": [],
   "source": [
    "kode_label = {\n",
    "    'notification of information': 0,\n",
    "    'donation': 1,\n",
    "    'criticisms': 2,\n",
    "    'hoax': 3,\n",
    "}"
   ]
  },
  {
   "cell_type": "code",
   "execution_count": 46,
   "metadata": {},
   "outputs": [],
   "source": [
    "def membuat_fitur(text):\n",
    "    \n",
    "    # Dataframe creation\n",
    "    lemmatized_text_list = []\n",
    "    df = pd.DataFrame(columns=['title'])\n",
    "    df.loc[0] = text\n",
    "    df['title_parsed_1'] = df['title'].str.replace(\"\\r\", \" \")\n",
    "    df['title_parsed_1'] = df['title_parsed_1'].str.replace(\"\\n\", \" \")\n",
    "    df['title_parsed_1'] = df['title_parsed_1'].str.replace(\"    \", \" \")\n",
    "    df['title_parsed_1'] = df['title_parsed_1'].str.replace('\"', '')\n",
    "    df['title_parsed_2'] = df['title_parsed_1'].str.lower()\n",
    "    df['title_parsed_3'] = df['title_parsed_2']\n",
    "    \n",
    "    punctuation_signs = list(\"?:!.,;\")\n",
    "    for punct_sign in punctuation_signs:\n",
    "        df['title_parsed_3'] = df['title_parsed_3'].str.replace(punct_sign, '')\n",
    "    factory = StemmerFactory()\n",
    "    stemmer = factory.create_stemmer()\n",
    "    text = df.loc[0]['title_parsed_3']  \n",
    "    sentence = text\n",
    "    lemmatized_text = stemmer.stem(sentence)\n",
    "    lemmatized_text_list.append(lemmatized_text)\n",
    "    df['title_parsed_4'] = lemmatized_text_list\n",
    "    df['title_parsed_5'] = df['title_parsed_4']\n",
    "    \n",
    "    punctuation_signs = list(\"?:!.,;\")\n",
    "    STOPWORDS= stopwords.words('Indonesian')\n",
    "    STOPWORDS.extend(['covid','covid-19','covid-19,','korona','2020','corona', 'corona,','2021','0','1','2','3','4','5','6','7','8','9','10','11','12','13','14','15','16','17','18','19','20','21','22','23','24','25','26','27','28','29','30','31','ribu','juta','-'])\n",
    "    stop_words = list(STOPWORDS)\n",
    "    for stop_word in stop_words:\n",
    "        regex_stopword = r\"\\b\" + stop_word + r\"\\b\"\n",
    "        df['title_parsed_5'] = df['title_parsed_5'].str.replace(regex_stopword, '')\n",
    "    df['title_parsed_5'] = df['title_parsed_5'].str.replace('-', '')\n",
    "    df = df.rename(columns={'title_parsed_5': 'title_parsed'})\n",
    "    df = df['title_parsed']\n",
    "    #df = df.rename(columns={'title_parsed_6': 'title_parsed'})\n",
    "\n",
    "    # TF-IDF\n",
    "    features = tfidf.transform(df).toarray()\n",
    "    \n",
    "    return features"
   ]
  },
  {
   "cell_type": "code",
   "execution_count": 47,
   "metadata": {},
   "outputs": [],
   "source": [
    "def get_nama_label(label_id):\n",
    "    for label, id_ in kode_label.items():    \n",
    "        if id_ == label_id:\n",
    "            return label"
   ]
  },
  {
   "cell_type": "code",
   "execution_count": 48,
   "metadata": {},
   "outputs": [],
   "source": [
    "def prediksi_dari_teks(teks):\n",
    "    \n",
    "    # Predict using the input model\n",
    "    prediksi_rfc = rfc_model.predict(membuat_fitur(teks))[0]\n",
    "    prediksi_rfc_proba = rfc_model.predict_proba(membuat_fitur(teks))[0]\n",
    "    \n",
    "    # Return result\n",
    "    label_rfc = get_nama_label(prediksi_rfc)\n",
    "    \n",
    "    print(\"Prediksi menggunakan RFC model adalah %s.\" %(label_rfc) )\n",
    "    print(\"Kondisional Probability: %a\" %(prediksi_rfc_proba.max()*100))\n",
    "    return label_rfc,prediksi_rfc_proba.max()*100"
   ]
  },
  {
   "cell_type": "code",
   "execution_count": 49,
   "metadata": {},
   "outputs": [],
   "source": [
    "import mysql.connector\n",
    "\n",
    "mydb = mysql.connector.connect(\n",
    "  host=\"localhost\",\n",
    "  user=\"root\",\n",
    "  password=\"\",\n",
    "  database=\"tugasakhir\"\n",
    ")\n",
    "\n",
    "mycursor = mydb.cursor()\n",
    "\n",
    "mycursor.execute(\"SELECT title FROM news where label is null or label=''\")\n",
    "data_berita = mycursor.fetchall()\n"
   ]
  },
  {
   "cell_type": "code",
   "execution_count": 50,
   "metadata": {},
   "outputs": [],
   "source": [
    "for baris in data_berita:\n",
    "    print(baris[0])\n",
    "    nama_label,label_persen=prediksi_dari_teks(baris[0])\n",
    "    if(label_persen>=65):\n",
    "        if(\"'\" not in str(baris[0])):\n",
    "            sql = \"UPDATE news SET label = '\"+nama_label+ \"' WHERE title = '\"+str(baris[0])+\"'\"    \n",
    "            print(sql)\n",
    "            mycursor.execute(sql)\n",
    "            mydb.commit()\n",
    "            \n",
    "        else:\n",
    "            sql = 'UPDATE news SET label = \"'+nama_label+ '\" WHERE title = \"'+str(baris[0])+'\"'\n",
    "            print(sql)\n",
    "            mycursor.execute(sql)\n",
    "            mydb.commit()\n",
    "    else:\n",
    "        if(\"'\" not in str(baris[0])):\n",
    "            sql = \"UPDATE news SET label = '\"+\"other\"+ \"' WHERE title = '\"+str(baris[0])+\"'\"    \n",
    "            print(sql)\n",
    "            mycursor.execute(sql)\n",
    "            mydb.commit()\n",
    "            \n",
    "        else:\n",
    "            sql = 'UPDATE news SET label = \"'+'other'+ '\" WHERE title = \"'+str(baris[0])+'\"'\n",
    "            print(sql)\n",
    "            mycursor.execute(sql)\n",
    "            mydb.commit()"
   ]
  },
  {
   "cell_type": "code",
   "execution_count": 51,
   "metadata": {},
   "outputs": [
    {
     "name": "stdout",
     "output_type": "stream",
     "text": [
      "[(0,)]\n"
     ]
    }
   ],
   "source": [
    "import mysql.connector\n",
    "\n",
    "mydb = mysql.connector.connect(\n",
    "  host=\"localhost\",\n",
    "  user=\"root\",\n",
    "  password=\"\",\n",
    "  database=\"tugasakhir\"\n",
    ")\n",
    "\n",
    "mycursor = mydb.cursor()\n",
    "\n",
    "mycursor.execute(\"SELECT count(*) FROM news where label is null or label=''\")\n",
    "myresult = mycursor.fetchall()\n",
    "print(myresult)"
   ]
  },
  {
   "cell_type": "code",
   "execution_count": 56,
   "metadata": {},
   "outputs": [],
   "source": []
  },
  {
   "cell_type": "code",
   "execution_count": 59,
   "metadata": {},
   "outputs": [
    {
     "ename": "NameError",
     "evalue": "name 'df_misclassified' is not defined",
     "output_type": "error",
     "traceback": [
      "\u001b[1;31m---------------------------------------------------------------------------\u001b[0m",
      "\u001b[1;31mNameError\u001b[0m                                 Traceback (most recent call last)",
      "\u001b[1;32m<ipython-input-59-8e798eeae352>\u001b[0m in \u001b[0;36m<module>\u001b[1;34m\u001b[0m\n\u001b[0;32m      1\u001b[0m \u001b[1;32mimport\u001b[0m \u001b[0mrandom\u001b[0m\u001b[1;33m\u001b[0m\u001b[1;33m\u001b[0m\u001b[0m\n\u001b[0;32m      2\u001b[0m \u001b[0mrandom\u001b[0m\u001b[1;33m.\u001b[0m\u001b[0mseed\u001b[0m\u001b[1;33m(\u001b[0m\u001b[1;36m8\u001b[0m\u001b[1;33m)\u001b[0m\u001b[1;33m\u001b[0m\u001b[1;33m\u001b[0m\u001b[0m\n\u001b[1;32m----> 3\u001b[1;33m \u001b[0mlist_samples\u001b[0m \u001b[1;33m=\u001b[0m \u001b[0mrandom\u001b[0m\u001b[1;33m.\u001b[0m\u001b[0msample\u001b[0m\u001b[1;33m(\u001b[0m\u001b[0mlist\u001b[0m\u001b[1;33m(\u001b[0m\u001b[0mdf_misclassified\u001b[0m\u001b[1;33m.\u001b[0m\u001b[0mindex\u001b[0m\u001b[1;33m)\u001b[0m\u001b[1;33m,\u001b[0m \u001b[1;36m3\u001b[0m\u001b[1;33m)\u001b[0m\u001b[1;33m\u001b[0m\u001b[1;33m\u001b[0m\u001b[0m\n\u001b[0m\u001b[0;32m      4\u001b[0m \u001b[0mlist_samples\u001b[0m\u001b[1;33m\u001b[0m\u001b[1;33m\u001b[0m\u001b[0m\n",
      "\u001b[1;31mNameError\u001b[0m: name 'df_misclassified' is not defined"
     ]
    }
   ],
   "source": []
  },
  {
   "cell_type": "code",
   "execution_count": 57,
   "metadata": {},
   "outputs": [
    {
     "ename": "TypeError",
     "evalue": "string indices must be integers",
     "output_type": "error",
     "traceback": [
      "\u001b[1;31m---------------------------------------------------------------------------\u001b[0m",
      "\u001b[1;31mTypeError\u001b[0m                                 Traceback (most recent call last)",
      "\u001b[1;32m<ipython-input-57-3ea45a8f3ad3>\u001b[0m in \u001b[0;36m<module>\u001b[1;34m\u001b[0m\n\u001b[1;32m----> 1\u001b[1;33m \u001b[0moutput_article\u001b[0m\u001b[1;33m(\u001b[0m\u001b[1;34m\"UPDATE Corona 31 Maret di 32 Provinsi: Kasus B.\"\u001b[0m\u001b[1;33m)\u001b[0m\u001b[1;33m\u001b[0m\u001b[1;33m\u001b[0m\u001b[0m\n\u001b[0m",
      "\u001b[1;32m<ipython-input-56-023021bf4d1d>\u001b[0m in \u001b[0;36moutput_article\u001b[1;34m(row_article)\u001b[0m\n\u001b[0;32m      1\u001b[0m \u001b[1;32mdef\u001b[0m \u001b[0moutput_article\u001b[0m\u001b[1;33m(\u001b[0m\u001b[0mrow_article\u001b[0m\u001b[1;33m)\u001b[0m\u001b[1;33m:\u001b[0m\u001b[1;33m\u001b[0m\u001b[1;33m\u001b[0m\u001b[0m\n\u001b[1;32m----> 2\u001b[1;33m     \u001b[0mprint\u001b[0m\u001b[1;33m(\u001b[0m\u001b[1;34m'Actual Category: %s'\u001b[0m \u001b[1;33m%\u001b[0m\u001b[1;33m(\u001b[0m\u001b[0mrow_article\u001b[0m\u001b[1;33m[\u001b[0m\u001b[1;34m'label'\u001b[0m\u001b[1;33m]\u001b[0m\u001b[1;33m)\u001b[0m\u001b[1;33m)\u001b[0m\u001b[1;33m\u001b[0m\u001b[1;33m\u001b[0m\u001b[0m\n\u001b[0m\u001b[0;32m      3\u001b[0m     \u001b[0mprint\u001b[0m\u001b[1;33m(\u001b[0m\u001b[1;34m'Predicted Category: %s'\u001b[0m \u001b[1;33m%\u001b[0m\u001b[1;33m(\u001b[0m\u001b[0mrow_article\u001b[0m\u001b[1;33m[\u001b[0m\u001b[1;34m'label_predicted'\u001b[0m\u001b[1;33m]\u001b[0m\u001b[1;33m)\u001b[0m\u001b[1;33m)\u001b[0m\u001b[1;33m\u001b[0m\u001b[1;33m\u001b[0m\u001b[0m\n\u001b[0;32m      4\u001b[0m     \u001b[0mprint\u001b[0m\u001b[1;33m(\u001b[0m\u001b[1;34m'-------------------------------------------'\u001b[0m\u001b[1;33m)\u001b[0m\u001b[1;33m\u001b[0m\u001b[1;33m\u001b[0m\u001b[0m\n\u001b[0;32m      5\u001b[0m     \u001b[0mprint\u001b[0m\u001b[1;33m(\u001b[0m\u001b[1;34m'Text: '\u001b[0m\u001b[1;33m)\u001b[0m\u001b[1;33m\u001b[0m\u001b[1;33m\u001b[0m\u001b[0m\n",
      "\u001b[1;31mTypeError\u001b[0m: string indices must be integers"
     ]
    }
   ],
   "source": [
    "output_article(\"UPDATE Corona 31 Maret di 32 Provinsi: Kasus B.\")"
   ]
  },
  {
   "cell_type": "code",
   "execution_count": null,
   "metadata": {},
   "outputs": [],
   "source": []
  }
 ],
 "metadata": {
  "kernelspec": {
   "display_name": "Python 3",
   "language": "python",
   "name": "python3"
  },
  "language_info": {
   "codemirror_mode": {
    "name": "ipython",
    "version": 3
   },
   "file_extension": ".py",
   "mimetype": "text/x-python",
   "name": "python",
   "nbconvert_exporter": "python",
   "pygments_lexer": "ipython3",
   "version": "3.8.5"
  }
 },
 "nbformat": 4,
 "nbformat_minor": 4
}
